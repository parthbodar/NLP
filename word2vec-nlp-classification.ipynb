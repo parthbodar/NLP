{
 "cells": [
  {
   "cell_type": "code",
   "execution_count": 1,
   "id": "cd8a2d13",
   "metadata": {},
   "outputs": [],
   "source": [
    "import numpy as np\n",
    "import pandas as pd"
   ]
  },
  {
   "cell_type": "code",
   "execution_count": 3,
   "id": "864d270f",
   "metadata": {},
   "outputs": [],
   "source": [
    "temp_df =pd.read_csv('IMDB Dataset.csv')"
   ]
  },
  {
   "cell_type": "code",
   "execution_count": 4,
   "id": "0cff1d2d",
   "metadata": {},
   "outputs": [],
   "source": [
    "df = temp_df.iloc[:10000]"
   ]
  },
  {
   "cell_type": "code",
   "execution_count": 5,
   "id": "175015fd",
   "metadata": {},
   "outputs": [
    {
     "data": {
      "text/html": [
       "<div>\n",
       "<style scoped>\n",
       "    .dataframe tbody tr th:only-of-type {\n",
       "        vertical-align: middle;\n",
       "    }\n",
       "\n",
       "    .dataframe tbody tr th {\n",
       "        vertical-align: top;\n",
       "    }\n",
       "\n",
       "    .dataframe thead th {\n",
       "        text-align: right;\n",
       "    }\n",
       "</style>\n",
       "<table border=\"1\" class=\"dataframe\">\n",
       "  <thead>\n",
       "    <tr style=\"text-align: right;\">\n",
       "      <th></th>\n",
       "      <th>review</th>\n",
       "      <th>sentiment</th>\n",
       "    </tr>\n",
       "  </thead>\n",
       "  <tbody>\n",
       "    <tr>\n",
       "      <th>0</th>\n",
       "      <td>One of the other reviewers has mentioned that ...</td>\n",
       "      <td>positive</td>\n",
       "    </tr>\n",
       "    <tr>\n",
       "      <th>1</th>\n",
       "      <td>A wonderful little production. &lt;br /&gt;&lt;br /&gt;The...</td>\n",
       "      <td>positive</td>\n",
       "    </tr>\n",
       "    <tr>\n",
       "      <th>2</th>\n",
       "      <td>I thought this was a wonderful way to spend ti...</td>\n",
       "      <td>positive</td>\n",
       "    </tr>\n",
       "    <tr>\n",
       "      <th>3</th>\n",
       "      <td>Basically there's a family where a little boy ...</td>\n",
       "      <td>negative</td>\n",
       "    </tr>\n",
       "    <tr>\n",
       "      <th>4</th>\n",
       "      <td>Petter Mattei's \"Love in the Time of Money\" is...</td>\n",
       "      <td>positive</td>\n",
       "    </tr>\n",
       "  </tbody>\n",
       "</table>\n",
       "</div>"
      ],
      "text/plain": [
       "                                              review sentiment\n",
       "0  One of the other reviewers has mentioned that ...  positive\n",
       "1  A wonderful little production. <br /><br />The...  positive\n",
       "2  I thought this was a wonderful way to spend ti...  positive\n",
       "3  Basically there's a family where a little boy ...  negative\n",
       "4  Petter Mattei's \"Love in the Time of Money\" is...  positive"
      ]
     },
     "execution_count": 5,
     "metadata": {},
     "output_type": "execute_result"
    }
   ],
   "source": [
    "df.head()"
   ]
  },
  {
   "cell_type": "code",
   "execution_count": 6,
   "id": "2805a7fc",
   "metadata": {},
   "outputs": [
    {
     "name": "stderr",
     "output_type": "stream",
     "text": [
      "C:\\Users\\parth\\AppData\\Local\\Temp\\ipykernel_1664\\772323618.py:1: SettingWithCopyWarning: \n",
      "A value is trying to be set on a copy of a slice from a DataFrame\n",
      "\n",
      "See the caveats in the documentation: https://pandas.pydata.org/pandas-docs/stable/user_guide/indexing.html#returning-a-view-versus-a-copy\n",
      "  df.drop_duplicates(inplace=True)\n"
     ]
    }
   ],
   "source": [
    "\n",
    "df.drop_duplicates(inplace=True)\n"
   ]
  },
  {
   "cell_type": "code",
   "execution_count": 7,
   "id": "a0454196",
   "metadata": {},
   "outputs": [],
   "source": [
    "\n",
    "import re\n",
    "def remove_tags(raw_text):\n",
    "    cleaned_text = re.sub(re.compile('<.*?>'), '', raw_text)\n",
    "    return cleaned_text"
   ]
  },
  {
   "cell_type": "code",
   "execution_count": 8,
   "id": "af74d3a9",
   "metadata": {},
   "outputs": [
    {
     "name": "stderr",
     "output_type": "stream",
     "text": [
      "C:\\Users\\parth\\AppData\\Local\\Temp\\ipykernel_1664\\2336150696.py:1: SettingWithCopyWarning: \n",
      "A value is trying to be set on a copy of a slice from a DataFrame.\n",
      "Try using .loc[row_indexer,col_indexer] = value instead\n",
      "\n",
      "See the caveats in the documentation: https://pandas.pydata.org/pandas-docs/stable/user_guide/indexing.html#returning-a-view-versus-a-copy\n",
      "  df['review'] = df['review'].apply(remove_tags)\n"
     ]
    }
   ],
   "source": [
    "df['review'] = df['review'].apply(remove_tags)"
   ]
  },
  {
   "cell_type": "code",
   "execution_count": 9,
   "id": "26853143",
   "metadata": {},
   "outputs": [
    {
     "name": "stderr",
     "output_type": "stream",
     "text": [
      "C:\\Users\\parth\\AppData\\Local\\Temp\\ipykernel_1664\\740760900.py:1: SettingWithCopyWarning: \n",
      "A value is trying to be set on a copy of a slice from a DataFrame.\n",
      "Try using .loc[row_indexer,col_indexer] = value instead\n",
      "\n",
      "See the caveats in the documentation: https://pandas.pydata.org/pandas-docs/stable/user_guide/indexing.html#returning-a-view-versus-a-copy\n",
      "  df['review'] = df['review'].apply(lambda x:x.lower())\n"
     ]
    }
   ],
   "source": [
    "df['review'] = df['review'].apply(lambda x:x.lower())"
   ]
  },
  {
   "cell_type": "code",
   "execution_count": 10,
   "id": "02a98336",
   "metadata": {},
   "outputs": [
    {
     "name": "stderr",
     "output_type": "stream",
     "text": [
      "C:\\Users\\parth\\AppData\\Local\\Temp\\ipykernel_1664\\2826946130.py:5: SettingWithCopyWarning: \n",
      "A value is trying to be set on a copy of a slice from a DataFrame.\n",
      "Try using .loc[row_indexer,col_indexer] = value instead\n",
      "\n",
      "See the caveats in the documentation: https://pandas.pydata.org/pandas-docs/stable/user_guide/indexing.html#returning-a-view-versus-a-copy\n",
      "  df['review'] = df['review'].apply(lambda x: [item for item in x.split() if item not in sw_list]).apply(lambda x:\" \".join(x))\n"
     ]
    }
   ],
   "source": [
    "from nltk.corpus import stopwords\n",
    "\n",
    "sw_list = stopwords.words('english')\n",
    "\n",
    "df['review'] = df['review'].apply(lambda x: [item for item in x.split() if item not in sw_list]).apply(lambda x:\" \".join(x))"
   ]
  },
  {
   "cell_type": "code",
   "execution_count": 11,
   "id": "54c989d6",
   "metadata": {},
   "outputs": [
    {
     "data": {
      "text/plain": [
       "0       one reviewers mentioned watching 1 oz episode ...\n",
       "1       wonderful little production. filming technique...\n",
       "2       thought wonderful way spend time hot summer we...\n",
       "3       basically there's family little boy (jake) thi...\n",
       "4       petter mattei's \"love time money\" visually stu...\n",
       "                              ...                        \n",
       "9995    fun, entertaining movie wwii german spy (julie...\n",
       "9996    give break. anyone say \"good hockey movie\"? kn...\n",
       "9997    movie bad movie. watching endless series bad h...\n",
       "9998    movie probably made entertain middle school, e...\n",
       "9999    smashing film film-making. shows intense stran...\n",
       "Name: review, Length: 9983, dtype: object"
      ]
     },
     "execution_count": 11,
     "metadata": {},
     "output_type": "execute_result"
    }
   ],
   "source": [
    "\n",
    "df['review']"
   ]
  },
  {
   "cell_type": "code",
   "execution_count": 12,
   "id": "d565ff36",
   "metadata": {},
   "outputs": [],
   "source": [
    "import gensim"
   ]
  },
  {
   "cell_type": "code",
   "execution_count": 13,
   "id": "fdf6aa17",
   "metadata": {},
   "outputs": [],
   "source": [
    "from nltk import sent_tokenize\n",
    "from gensim.utils import simple_preprocess"
   ]
  },
  {
   "cell_type": "code",
   "execution_count": 14,
   "id": "a7cbdea3",
   "metadata": {},
   "outputs": [],
   "source": [
    "story = []\n",
    "for doc in df['review']:\n",
    "    raw_sent = sent_tokenize(doc)\n",
    "    for sent in raw_sent:\n",
    "        story.append(simple_preprocess(sent))"
   ]
  },
  {
   "cell_type": "code",
   "execution_count": 18,
   "id": "77055fc7",
   "metadata": {},
   "outputs": [],
   "source": [
    "model = gensim.models.Word2Vec(\n",
    "    window=10,\n",
    "    min_count=2\n",
    ")\n"
   ]
  },
  {
   "cell_type": "code",
   "execution_count": 21,
   "id": "a7bf887f",
   "metadata": {},
   "outputs": [],
   "source": [
    "model.build_vocab(story)"
   ]
  },
  {
   "cell_type": "code",
   "execution_count": 22,
   "id": "9925d0a0",
   "metadata": {},
   "outputs": [
    {
     "data": {
      "text/plain": [
       "(5875393, 6212140)"
      ]
     },
     "execution_count": 22,
     "metadata": {},
     "output_type": "execute_result"
    }
   ],
   "source": [
    "\n",
    "model.train(story, total_examples=model.corpus_count, epochs=model.epochs)"
   ]
  },
  {
   "cell_type": "code",
   "execution_count": 23,
   "id": "9d20ab39",
   "metadata": {},
   "outputs": [
    {
     "data": {
      "text/plain": [
       "31845"
      ]
     },
     "execution_count": 23,
     "metadata": {},
     "output_type": "execute_result"
    }
   ],
   "source": [
    "\n",
    "len(model.wv.index_to_key)"
   ]
  },
  {
   "cell_type": "code",
   "execution_count": 24,
   "id": "fc8fec01",
   "metadata": {},
   "outputs": [],
   "source": [
    "\n",
    "def document_vector(doc):\n",
    "    # remove out-of-vocabulary words\n",
    "    doc = [word for word in doc.split() if word in model.wv.index_to_key]\n",
    "    return np.mean(model.wv[doc], axis=0)"
   ]
  },
  {
   "cell_type": "code",
   "execution_count": 25,
   "id": "2ec25d89",
   "metadata": {},
   "outputs": [
    {
     "data": {
      "text/plain": [
       "array([-2.02073038e-01,  5.01998127e-01,  1.63309649e-01,  2.52334833e-01,\n",
       "       -8.02389905e-02, -6.46206141e-01,  2.35104889e-01,  9.39284563e-01,\n",
       "       -3.31108809e-01, -2.81323820e-01, -3.08281094e-01, -5.27416527e-01,\n",
       "        5.33612706e-02,  1.32540777e-01,  2.06399322e-01, -7.39664957e-02,\n",
       "        8.76664557e-03, -3.22644681e-01, -9.31999162e-02, -5.90554535e-01,\n",
       "        5.69714718e-02,  2.63887823e-01,  8.53212848e-02, -2.53322750e-01,\n",
       "       -2.78735220e-01,  2.07240781e-04, -3.55418295e-01, -3.80389765e-02,\n",
       "       -2.86218584e-01,  4.43897992e-02,  3.16602618e-01, -1.69540234e-02,\n",
       "        1.80413648e-01, -2.32293159e-01, -1.26782402e-01,  4.90005940e-01,\n",
       "        8.44162703e-02, -3.95458549e-01, -2.65608519e-01, -7.36086369e-01,\n",
       "        9.56615284e-02, -2.83824682e-01,  6.06130362e-02, -9.59544554e-02,\n",
       "        5.05553126e-01, -1.13449454e-01, -2.74148256e-01, -7.26595372e-02,\n",
       "        1.52585909e-01,  3.35546672e-01,  7.07314909e-02, -4.34990585e-01,\n",
       "       -3.99632424e-01, -8.25622082e-02, -7.87874833e-02,  2.23338589e-01,\n",
       "        1.97624773e-01,  2.18477957e-02, -3.39516819e-01,  1.23791941e-01,\n",
       "        9.43869725e-02,  5.84617108e-02,  2.19876692e-02, -9.42197517e-02,\n",
       "       -4.24263626e-01,  2.71193802e-01,  5.93107380e-02,  1.34920418e-01,\n",
       "       -3.22752595e-01,  2.86182553e-01, -3.29112768e-01,  1.39687523e-01,\n",
       "        5.70396543e-01, -1.45590305e-01,  3.94337475e-01,  1.38081610e-01,\n",
       "       -5.02668768e-02, -1.37357190e-01, -5.48821509e-01,  1.34976834e-01,\n",
       "       -3.27771544e-01,  5.02726696e-02, -4.10183161e-01,  4.63950992e-01,\n",
       "       -1.23132199e-01, -1.22279085e-01, -4.53138128e-02,  2.18841702e-01,\n",
       "        3.17290783e-01,  1.16736807e-01,  2.99443871e-01,  2.27126688e-01,\n",
       "        7.44624808e-03,  1.51169091e-01,  6.06188476e-01,  2.33278558e-01,\n",
       "        1.47163123e-01, -1.46887138e-01, -6.06300645e-02, -9.33267623e-02],\n",
       "      dtype=float32)"
      ]
     },
     "execution_count": 25,
     "metadata": {},
     "output_type": "execute_result"
    }
   ],
   "source": [
    "document_vector(df['review'].values[0])\n"
   ]
  },
  {
   "cell_type": "code",
   "execution_count": 26,
   "id": "6417b7cd",
   "metadata": {},
   "outputs": [],
   "source": [
    "from tqdm import tqdm"
   ]
  },
  {
   "cell_type": "code",
   "execution_count": 27,
   "id": "0ee8f468",
   "metadata": {},
   "outputs": [
    {
     "name": "stderr",
     "output_type": "stream",
     "text": [
      "100%|██████████████████████████████████████████████████████████████████████████████| 9983/9983 [16:48<00:00,  9.90it/s]\n"
     ]
    }
   ],
   "source": [
    "x = []\n",
    "for doc in tqdm(df['review'].values):\n",
    "    x.append(document_vector(doc))"
   ]
  },
  {
   "cell_type": "code",
   "execution_count": 28,
   "id": "a468df04",
   "metadata": {},
   "outputs": [],
   "source": [
    "x = np.array(x)"
   ]
  },
  {
   "cell_type": "code",
   "execution_count": 29,
   "id": "f46d39a8",
   "metadata": {},
   "outputs": [
    {
     "data": {
      "text/plain": [
       "array([-2.02073038e-01,  5.01998127e-01,  1.63309649e-01,  2.52334833e-01,\n",
       "       -8.02389905e-02, -6.46206141e-01,  2.35104889e-01,  9.39284563e-01,\n",
       "       -3.31108809e-01, -2.81323820e-01, -3.08281094e-01, -5.27416527e-01,\n",
       "        5.33612706e-02,  1.32540777e-01,  2.06399322e-01, -7.39664957e-02,\n",
       "        8.76664557e-03, -3.22644681e-01, -9.31999162e-02, -5.90554535e-01,\n",
       "        5.69714718e-02,  2.63887823e-01,  8.53212848e-02, -2.53322750e-01,\n",
       "       -2.78735220e-01,  2.07240781e-04, -3.55418295e-01, -3.80389765e-02,\n",
       "       -2.86218584e-01,  4.43897992e-02,  3.16602618e-01, -1.69540234e-02,\n",
       "        1.80413648e-01, -2.32293159e-01, -1.26782402e-01,  4.90005940e-01,\n",
       "        8.44162703e-02, -3.95458549e-01, -2.65608519e-01, -7.36086369e-01,\n",
       "        9.56615284e-02, -2.83824682e-01,  6.06130362e-02, -9.59544554e-02,\n",
       "        5.05553126e-01, -1.13449454e-01, -2.74148256e-01, -7.26595372e-02,\n",
       "        1.52585909e-01,  3.35546672e-01,  7.07314909e-02, -4.34990585e-01,\n",
       "       -3.99632424e-01, -8.25622082e-02, -7.87874833e-02,  2.23338589e-01,\n",
       "        1.97624773e-01,  2.18477957e-02, -3.39516819e-01,  1.23791941e-01,\n",
       "        9.43869725e-02,  5.84617108e-02,  2.19876692e-02, -9.42197517e-02,\n",
       "       -4.24263626e-01,  2.71193802e-01,  5.93107380e-02,  1.34920418e-01,\n",
       "       -3.22752595e-01,  2.86182553e-01, -3.29112768e-01,  1.39687523e-01,\n",
       "        5.70396543e-01, -1.45590305e-01,  3.94337475e-01,  1.38081610e-01,\n",
       "       -5.02668768e-02, -1.37357190e-01, -5.48821509e-01,  1.34976834e-01,\n",
       "       -3.27771544e-01,  5.02726696e-02, -4.10183161e-01,  4.63950992e-01,\n",
       "       -1.23132199e-01, -1.22279085e-01, -4.53138128e-02,  2.18841702e-01,\n",
       "        3.17290783e-01,  1.16736807e-01,  2.99443871e-01,  2.27126688e-01,\n",
       "        7.44624808e-03,  1.51169091e-01,  6.06188476e-01,  2.33278558e-01,\n",
       "        1.47163123e-01, -1.46887138e-01, -6.06300645e-02, -9.33267623e-02],\n",
       "      dtype=float32)"
      ]
     },
     "execution_count": 29,
     "metadata": {},
     "output_type": "execute_result"
    }
   ],
   "source": [
    "x[0]"
   ]
  },
  {
   "cell_type": "code",
   "execution_count": 30,
   "id": "f6781568",
   "metadata": {},
   "outputs": [],
   "source": [
    "\n",
    "from sklearn.preprocessing import LabelEncoder\n",
    "encoder = LabelEncoder()\n",
    "\n",
    "y = encoder.fit_transform(df['sentiment'])"
   ]
  },
  {
   "cell_type": "code",
   "execution_count": 31,
   "id": "68ff29c5",
   "metadata": {},
   "outputs": [
    {
     "data": {
      "text/plain": [
       "array([1, 1, 1, ..., 0, 0, 1])"
      ]
     },
     "execution_count": 31,
     "metadata": {},
     "output_type": "execute_result"
    }
   ],
   "source": [
    "y"
   ]
  },
  {
   "cell_type": "code",
   "execution_count": 33,
   "id": "8ad04571",
   "metadata": {},
   "outputs": [],
   "source": [
    "from sklearn.model_selection import train_test_split\n",
    "x_train,x_test,y_train,y_test = train_test_split(x,y,test_size=0.2,random_state=1)"
   ]
  },
  {
   "cell_type": "code",
   "execution_count": 34,
   "id": "a226ff11",
   "metadata": {},
   "outputs": [],
   "source": [
    "\n",
    "from sklearn.ensemble import RandomForestClassifier\n",
    "from sklearn.metrics import accuracy_score"
   ]
  },
  {
   "cell_type": "code",
   "execution_count": 36,
   "id": "8c4286d2",
   "metadata": {},
   "outputs": [
    {
     "data": {
      "text/plain": [
       "0.7761642463695543"
      ]
     },
     "execution_count": 36,
     "metadata": {},
     "output_type": "execute_result"
    }
   ],
   "source": [
    "rf = RandomForestClassifier()\n",
    "rf.fit(x_train,y_train)\n",
    "y_pred = rf.predict(x_test)\n",
    "accuracy_score(y_test,y_pred)\n"
   ]
  },
  {
   "cell_type": "code",
   "execution_count": null,
   "id": "1a33bd86",
   "metadata": {},
   "outputs": [],
   "source": []
  }
 ],
 "metadata": {
  "kernelspec": {
   "display_name": "Python 3 (ipykernel)",
   "language": "python",
   "name": "python3"
  },
  "language_info": {
   "codemirror_mode": {
    "name": "ipython",
    "version": 3
   },
   "file_extension": ".py",
   "mimetype": "text/x-python",
   "name": "python",
   "nbconvert_exporter": "python",
   "pygments_lexer": "ipython3",
   "version": "3.11.5"
  }
 },
 "nbformat": 4,
 "nbformat_minor": 5
}
